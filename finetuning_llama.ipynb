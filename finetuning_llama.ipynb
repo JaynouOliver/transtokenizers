{
 "cells": [
  {
   "cell_type": "code",
   "execution_count": null,
   "metadata": {},
   "outputs": [],
   "source": [
    "import sentencepiece as spm\n",
    "\n",
    "sp = spm.SentencePieceProcessor()\n",
    "sp.Load('bangla_char.model')\n"
   ]
  },
  {
   "cell_type": "code",
   "execution_count": null,
   "metadata": {},
   "outputs": [],
   "source": [
    "text = \"আমার বাংলা ভাষা আমার গর্ব\"\n",
    "tokens = sp.encode_as_ids(text)\n",
    "print(tokens)\n"
   ]
  },
  {
   "cell_type": "code",
   "execution_count": null,
   "metadata": {},
   "outputs": [],
   "source": [
    "from huggingface_hub import notebook_login\n",
    "notebook_login()"
   ]
  },
  {
   "cell_type": "code",
   "execution_count": null,
   "metadata": {},
   "outputs": [],
   "source": [
    "import wandb\n",
    "\n",
    "# Login to Weights & Biases\n",
    "wandb.login(key='WANDBKEY')\n"
   ]
  },
  {
   "cell_type": "code",
   "execution_count": null,
   "metadata": {},
   "outputs": [],
   "source": [
    "import os\n",
    "os.environ[\"PYTORCH_CUDA_ALLOC_CONF\"] = \"max_split_size_mb:128\"\n"
   ]
  },
  {
   "cell_type": "code",
   "execution_count": null,
   "metadata": {},
   "outputs": [],
   "source": [
    "import wandb\n",
    "from transformers import AutoModelForCausalLM, Trainer, TrainingArguments\n",
    "import sentencepiece as spm\n",
    "import torch\n",
    "from torch.utils.data import Dataset, DataLoader\n",
    "from tqdm import tqdm\n",
    "from transformers import DataCollatorForLanguageModeling\n",
    "from custom_tokenizer import CustomBengaliTokenizer \n",
    "\n",
    "wandb.init(project=\"Transtokenizers\")\n",
    "\n",
    "# custom tokenizer\n",
    "tokenizer = CustomBengaliTokenizer(vocab_file=\"bangla_char.vocab\", model_file=\"bangla_char.model\")\n",
    "\n",
    "def tokenize_text_file(file_path, tokenizer):\n",
    "    with open(file_path, 'r', encoding='utf-8') as f:\n",
    "        lines = f.readlines()\n",
    "    tokenized_lines = [tokenizer.encode(line.strip()) for line in lines if line.strip()]\n",
    "    return tokenized_lines\n",
    "\n",
    "file_path = 'final_cleaned_bangla_corpus.txt'\n",
    "tokenized_data = tokenize_text_file(file_path, tokenizer)\n",
    "\n",
    "class CustomDataset(Dataset):\n",
    "    def __init__(self, tokenized_data):\n",
    "        self.tokenized_data = tokenized_data\n",
    "\n",
    "    def __len__(self):\n",
    "        return len(self.tokenized_data)\n",
    "\n",
    "    def __getitem__(self, idx):\n",
    "        input_ids = torch.tensor(self.tokenized_data[idx], dtype=torch.long)\n",
    "        return {'input_ids': input_ids, 'labels': input_ids.clone()}\n",
    "\n",
    "dataset = CustomDataset(tokenized_data)\n",
    "train_dataloader = DataLoader(dataset, batch_size=8, shuffle=True, num_workers=4) \n",
    "\n",
    "model = AutoModelForCausalLM.from_pretrained(\"meta-llama/Meta-Llama-3.1-8B`\")\n",
    "\n",
    "data_collator = DataCollatorForLanguageModeling(tokenizer=tokenizer, mlm=False)\n",
    "\n",
    "training_args = TrainingArguments(\n",
    "    output_dir='./results',\n",
    "    num_train_epochs=3,\n",
    "    per_device_train_batch_size=8,  \n",
    "    learning_rate=5e-5,\n",
    "    warmup_steps=500,\n",
    "    weight_decay=0.01,\n",
    "    logging_dir='./logs',\n",
    "    logging_steps=10,\n",
    "    save_steps=10_000,\n",
    "    save_total_limit=2,\n",
    "    gradient_accumulation_steps=4, \n",
    "    evaluation_strategy=\"steps\",\n",
    "    eval_steps=1000,\n",
    "    fp16=True,\n",
    "    dataloader_num_workers=4,\n",
    "    report_to=\"wandb\",\n",
    "    run_name=\"Transtokenizers_run\"\n",
    ")\n",
    "\n",
    "trainer = Trainer(\n",
    "    model=model,\n",
    "    args=training_args,\n",
    "    train_dataset=dataset,\n",
    "    data_collator=data_collator\n",
    ")\n",
    "\n",
    "trainer.train()\n",
    "\n",
    "wandb.finish()\n"
   ]
  }
 ],
 "metadata": {
  "language_info": {
   "name": "python"
  }
 },
 "nbformat": 4,
 "nbformat_minor": 2
}
