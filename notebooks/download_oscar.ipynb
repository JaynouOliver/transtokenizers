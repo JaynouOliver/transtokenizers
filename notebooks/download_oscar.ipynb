{
 "cells": [
  {
   "cell_type": "code",
   "execution_count": 1,
   "id": "3091322b-dfdf-4b12-baa2-7feb71555863",
   "metadata": {},
   "outputs": [],
   "source": [
    "# download the OSCAR 2301 corpus from HuggingFace, and save a copy of it in a text file"
   ]
  },
  {
   "cell_type": "code",
   "execution_count": 2,
   "id": "daa24ceb-84de-4df7-80c7-f86a93f5080d",
   "metadata": {},
   "outputs": [],
   "source": [
    "import os\n",
    "import datasets"
   ]
  },
  {
   "cell_type": "code",
   "execution_count": 3,
   "id": "ec3b58dd-04b1-43ae-8bbb-5ee435f91304",
   "metadata": {},
   "outputs": [
    {
     "data": {
      "application/vnd.jupyter.widget-view+json": {
       "model_id": "d0a7b358f96d4c6b99181d5fe5f2ac7d",
       "version_major": 2,
       "version_minor": 0
      },
      "text/plain": [
       "Downloading builder script:   0%|          | 0.00/22.3k [00:00<?, ?B/s]"
      ]
     },
     "metadata": {},
     "output_type": "display_data"
    },
    {
     "data": {
      "application/vnd.jupyter.widget-view+json": {
       "model_id": "46e92bba26b14dc68017fb0831212d94",
       "version_major": 2,
       "version_minor": 0
      },
      "text/plain": [
       "Downloading readme:   0%|          | 0.00/37.4k [00:00<?, ?B/s]"
      ]
     },
     "metadata": {},
     "output_type": "display_data"
    },
    {
     "name": "stdout",
     "output_type": "stream",
     "text": [
      "Downloading and preparing dataset oscar-2301/tt to /home/fremyuge/.cache/huggingface/datasets/oscar-corpus___oscar-2301/tt/2023.1.0/156efb8ba9f439f881d8f41fd7fddd5e04604bc27505c46ddef015f2fc551a4a...\n"
     ]
    },
    {
     "data": {
      "application/vnd.jupyter.widget-view+json": {
       "model_id": "d8e36cb0ca3647b89921f70afb6c46cd",
       "version_major": 2,
       "version_minor": 0
      },
      "text/plain": [
       "Downloading data:   0%|          | 0.00/83.0 [00:00<?, ?B/s]"
      ]
     },
     "metadata": {},
     "output_type": "display_data"
    },
    {
     "data": {
      "application/vnd.jupyter.widget-view+json": {
       "model_id": "f77b0abce0564ad3b2bc52de4c826505",
       "version_major": 2,
       "version_minor": 0
      },
      "text/plain": [
       "Downloading data files:   0%|          | 0/1 [00:00<?, ?it/s]"
      ]
     },
     "metadata": {},
     "output_type": "display_data"
    },
    {
     "data": {
      "application/vnd.jupyter.widget-view+json": {
       "model_id": "3f99ec0a0146453f89ea9f37e24cae17",
       "version_major": 2,
       "version_minor": 0
      },
      "text/plain": [
       "Downloading data:   0%|          | 0.00/262M [00:00<?, ?B/s]"
      ]
     },
     "metadata": {},
     "output_type": "display_data"
    },
    {
     "data": {
      "application/vnd.jupyter.widget-view+json": {
       "model_id": "",
       "version_major": 2,
       "version_minor": 0
      },
      "text/plain": [
       "Generating train split: 0 examples [00:00, ? examples/s]"
      ]
     },
     "metadata": {},
     "output_type": "display_data"
    },
    {
     "name": "stdout",
     "output_type": "stream",
     "text": [
      "Dataset oscar-2301 downloaded and prepared to /home/fremyuge/.cache/huggingface/datasets/oscar-corpus___oscar-2301/tt/2023.1.0/156efb8ba9f439f881d8f41fd7fddd5e04604bc27505c46ddef015f2fc551a4a. Subsequent calls will reuse this data.\n"
     ]
    }
   ],
   "source": [
    "# select the language to download\n",
    "CORPUS_NAME = \"oscar-corpus/OSCAR-2301\"\n",
    "LANGUAGE = \"nl\"\n",
    "\n",
    "# download the corpus\n",
    "corpus = datasets.load_dataset(CORPUS_NAME, LANGUAGE, split=\"train\")\n",
    "\n",
    "# shuffle the corpus\n",
    "corpus = corpus.shuffle(seed=0)\n",
    "\n",
    "# save the corpus to a text file\n",
    "os.makedirs(\"corpora/monolingual/OSCAR\", exist_ok=True)\n",
    "with open(f\"corpora/monolingual/OSCAR/{LANGUAGE}.txt\", \"w\") as f:\n",
    "    for line in corpus:\n",
    "        f.write(line[\"text\"] + \"\\n\")"
   ]
  }
 ],
 "metadata": {
  "kernelspec": {
   "display_name": "Python 3 (ipykernel)",
   "language": "python",
   "name": "python3"
  },
  "language_info": {
   "codemirror_mode": {
    "name": "ipython",
    "version": 3
   },
   "file_extension": ".py",
   "mimetype": "text/x-python",
   "name": "python",
   "nbconvert_exporter": "python",
   "pygments_lexer": "ipython3",
   "version": "3.10.9"
  }
 },
 "nbformat": 4,
 "nbformat_minor": 5
}
