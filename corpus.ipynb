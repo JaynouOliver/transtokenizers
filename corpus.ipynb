{
 "cells": [
  {
   "cell_type": "code",
   "execution_count": 10,
   "id": "4d015b53-8c06-4811-8270-29e9d01900a7",
   "metadata": {},
   "outputs": [
    {
     "name": "stdout",
     "output_type": "stream",
     "text": [
      "Mon Aug  5 20:36:35 2024       \n",
      "+---------------------------------------------------------------------------------------+\n",
      "| NVIDIA-SMI 535.86.10              Driver Version: 535.86.10    CUDA Version: 12.2     |\n",
      "|-----------------------------------------+----------------------+----------------------+\n",
      "| GPU  Name                 Persistence-M | Bus-Id        Disp.A | Volatile Uncorr. ECC |\n",
      "| Fan  Temp   Perf          Pwr:Usage/Cap |         Memory-Usage | GPU-Util  Compute M. |\n",
      "|                                         |                      |               MIG M. |\n",
      "|=========================================+======================+======================|\n",
      "|   0  NVIDIA A100 80GB PCIe          On  | 00000000:3F:00.0 Off |                    0 |\n",
      "| N/A   27C    P0              42W / 300W |      7MiB / 81920MiB |      0%      Default |\n",
      "|                                         |                      |             Disabled |\n",
      "+-----------------------------------------+----------------------+----------------------+\n",
      "                                                                                         \n",
      "+---------------------------------------------------------------------------------------+\n",
      "| Processes:                                                                            |\n",
      "|  GPU   GI   CI        PID   Type   Process name                            GPU Memory |\n",
      "|        ID   ID                                                             Usage      |\n",
      "|=======================================================================================|\n",
      "|  No running processes found                                                           |\n",
      "+---------------------------------------------------------------------------------------+\n"
     ]
    }
   ],
   "source": [
    "!nvidia-smi"
   ]
  },
  {
   "cell_type": "code",
   "execution_count": 11,
   "id": "326c1ac1-edf1-468d-b64d-864306d5170b",
   "metadata": {},
   "outputs": [
    {
     "name": "stdout",
     "output_type": "stream",
     "text": [
      "Current GPU: NVIDIA A100 80GB PCIe\n"
     ]
    }
   ],
   "source": [
    "import torch\n",
    "\n",
    "if torch.cuda.is_available():\n",
    "    print(\"Current GPU:\", torch.cuda.get_device_name(torch.cuda.current_device()))\n"
   ]
  },
  {
   "cell_type": "code",
   "execution_count": 4,
   "id": "c4d715b3-afcd-45a1-aae6-3dd979cc1ff9",
   "metadata": {},
   "outputs": [],
   "source": [
    "#downloading the text files\n",
    "import requests\n",
    "\n",
    "def download_file(url, filename):\n",
    "    response = requests.get(url)\n",
    "    response.raise_for_status()  \n",
    "    with open(filename, 'w', encoding='utf-8') as file:\n",
    "        file.write(response.text)\n",
    "\n",
    "ben_url = 'https://raw.githubusercontent.com/BibleNLP/ebible/main/corpus/ben-ben2017.txt'\n",
    "eng_url = 'https://raw.githubusercontent.com/BibleNLP/ebible/main/corpus/eng-enggnv.txt'\n",
    "\n",
    "\n",
    "download_file(ben_url, 'ben-ben2017.txt')\n",
    "download_file(eng_url, 'eng-enggnv.txt')"
   ]
  },
  {
   "cell_type": "code",
   "execution_count": null,
   "id": "78fab908-34b9-4df9-9b83-59f0de45b5a4",
   "metadata": {
    "scrolled": true
   },
   "outputs": [],
   "source": [
    "#preparing english and bangla toknizer models \n",
    "import sentencepiece as spm\n",
    "\n",
    "corpus_file = 'eng-enggnv.txt'\n",
    "\n",
    "spm.SentencePieceTrainer.train(\n",
    "    input=corpus_file,\n",
    "    model_prefix='english_bpe',\n",
    "    vocab_size=32000,\n",
    "    model_type='bpe',\n",
    "    character_coverage=0.9995,\n",
    "    max_sentence_length=10000\n",
    ")\n",
    "\n",
    "print(f\"Tokenizer trained and saved as {model_prefix}.model and {model_prefix}.vocab\")\n"
   ]
  },
  {
   "cell_type": "code",
   "execution_count": null,
   "id": "c26064e8-8e33-44af-8e7b-8d853d29fe56",
   "metadata": {},
   "outputs": [],
   "source": [
    "corpus_file = 'ben-ben2017.txt'\n",
    "\n",
    "spm.SentencePieceTrainer.train(\n",
    "    input=corpus_file,\n",
    "    model_prefix='bengali_bpe',\n",
    "    vocab_size=32000,\n",
    "    model_type='bpe',\n",
    "    character_coverage=0.9995,\n",
    "    max_sentence_length=10000\n",
    ")\n",
    "\n",
    "print(f\"Tokenizer trained and saved as {model_prefix}.model and {model_prefix}.vocab\")"
   ]
  },
  {
   "cell_type": "code",
   "execution_count": 6,
   "id": "c77cba15-6252-47f5-b292-b8d36e672c8d",
   "metadata": {},
   "outputs": [],
   "source": [
    "# preparing paraellel corpus\n",
    "def prepare_parallel_corpus(eng_file, ben_file, output_file):\n",
    "    with open(eng_file, 'r', encoding='utf-8') as eng, open(ben_file, 'r', encoding='utf-8') as ben, open(output_file, 'w', encoding='utf-8') as out:\n",
    "        eng_lines = eng.readlines()\n",
    "        ben_lines = ben.readlines()\n",
    "        \n",
    "      \n",
    "        assert len(eng_lines) == len(ben_lines), \"The English and Bengali files must have the same number of lines.\"\n",
    "        \n",
    "        for eng_line, ben_line in zip(eng_lines, ben_lines):\n",
    "            eng_line = eng_line.strip()\n",
    "            ben_line = ben_line.strip()\n",
    "            if eng_line and ben_line: \n",
    "                out.write(f\"{eng_line} ||| {ben_line}\\n\")\n",
    "\n",
    "prepare_parallel_corpus('eng-enggnv.txt', 'ben-ben2017.txt', 'parallel_corpus.txt')"
   ]
  },
  {
   "cell_type": "code",
   "execution_count": 8,
   "id": "158bff63-1647-48b1-8f49-ebb3b8d713d1",
   "metadata": {},
   "outputs": [],
   "source": [
    "#tokenizing both sides of the corpus english and bengali \n"
   ]
  },
  {
   "cell_type": "code",
   "execution_count": null,
   "id": "87a952a7-a442-4e71-bf1b-d75ecf2c23c7",
   "metadata": {},
   "outputs": [],
   "source": []
  }
 ],
 "metadata": {
  "kernelspec": {
   "display_name": "Python 3 (ipykernel)",
   "language": "python",
   "name": "python3"
  },
  "language_info": {
   "codemirror_mode": {
    "name": "ipython",
    "version": 3
   },
   "file_extension": ".py",
   "mimetype": "text/x-python",
   "name": "python",
   "nbconvert_exporter": "python",
   "pygments_lexer": "ipython3",
   "version": "3.10.14"
  }
 },
 "nbformat": 4,
 "nbformat_minor": 5
}
